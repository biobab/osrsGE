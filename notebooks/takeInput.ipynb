{
 "cells": [
  {
   "cell_type": "code",
   "execution_count": 1,
   "id": "bed5a049",
   "metadata": {},
   "outputs": [],
   "source": [
    "import requests\n",
    "import json\n",
    "import pandas as pd\n",
    "import numpy as np\n",
    "import difflib\n",
    "import regex as re"
   ]
  },
  {
   "cell_type": "code",
   "execution_count": 2,
   "id": "3a985d40",
   "metadata": {},
   "outputs": [],
   "source": [
    "item_df = pd.read_parquet(\"../data/osrs_item_prices.parquet\")"
   ]
  },
  {
   "cell_type": "code",
   "execution_count": 5,
   "id": "01be06d5",
   "metadata": {},
   "outputs": [],
   "source": [
    "# load file if file already saved\n",
    "try:\n",
    "    with open(\"../data/my_items.json\") as f:\n",
    "        my_items = json.load(f)\n",
    "except:\n",
    "    # init dict for items and prices\n",
    "    my_items = {}"
   ]
  },
  {
   "cell_type": "code",
   "execution_count": 6,
   "id": "dab03fa2",
   "metadata": {},
   "outputs": [
    {
     "data": {
      "text/plain": [
       "{'Bandos godsword': '26600000',\n",
       " 'Justiciar armour set': '38200000',\n",
       " 'Kodai wand': '119000000'}"
      ]
     },
     "execution_count": 6,
     "metadata": {},
     "output_type": "execute_result"
    }
   ],
   "source": [
    "my_items"
   ]
  },
  {
   "cell_type": "code",
   "execution_count": null,
   "id": "389eca2b",
   "metadata": {},
   "outputs": [
    {
     "name": "stdout",
     "output_type": "stream",
     "text": [
      "enter item to add\n",
      "dragon bones\n",
      "Is this what you wanted? (y/n)\n",
      " Dragon bones\n",
      "how much did you pay for it?\n",
      "dict_items([('Bandos godsword', '26600000'), ('Justiciar armour set', '38200000'), ('Kodai wand', '119000000'), ('Dragon bones', '')])\n",
      "do you wanna add more? (y/n)\n",
      "hwat?\n",
      "do you wanna add more? (y/n)\n"
     ]
    }
   ],
   "source": [
    "# add the items you wanna track\n",
    "def suggest_item_names(user_input, df):\n",
    "    all_names = df[\"name\"]\n",
    "    return difflib.get_close_matches(user_input.lower(), all_names, n=1, cutoff=0.6)\n",
    "\n",
    "def take_more():\n",
    "    print(\"do you wanna add more? (y/n)\", flush = True)\n",
    "    cont = input()\n",
    "    if cont.lower() == \"y\":\n",
    "        take_input()\n",
    "    if cont.lower() == \"n\":\n",
    "        return\n",
    "    else:\n",
    "        print(\"hwat?\", flush = True)\n",
    "        take_more()\n",
    "\n",
    "# take user input\n",
    "def take_input():\n",
    "    print(\"enter item to add\")\n",
    "    user_input = input()\n",
    "    print(user_input, flush=True)\n",
    "    try:\n",
    "        item_name = suggest_item_names(user_input, item_df)[0]\n",
    "    except Exception as e:\n",
    "        print(f\"Error: {e}\")\n",
    "    if len(item_name) == 0:\n",
    "        print(\"no match, please enter item again\",flush = True)\n",
    "        take_input()\n",
    "    print(f\"Is this what you wanted? (y/n)\\n {item_name}\", flush = True)\n",
    "    correct = input()\n",
    "    if correct.lower() == \"y\":\n",
    "        if item_name not in my_items:\n",
    "            print(\"how much did you pay for it?\")\n",
    "            price = input()\n",
    "            my_items[item_name] = price\n",
    "            print(my_items.items())\n",
    "            \n",
    "            take_more()\n",
    "            return\n",
    "        else:\n",
    "            print(\"item already added.\", flush = True)\n",
    "            take_more()\n",
    "            return\n",
    "    else:\n",
    "        take_input()\n",
    "\n",
    "\n",
    "\n",
    "# def manage_price(price):\n",
    "      \n",
    "take_input()\n",
    "\n",
    "# save your items\n",
    "with open(\"../data/my_items.json\", \"w\") as f:\n",
    "    json.dump(my_items, f, indent=2)\n",
    "    "
   ]
  },
  {
   "cell_type": "code",
   "execution_count": null,
   "id": "265cea3d",
   "metadata": {},
   "outputs": [],
   "source": []
  }
 ],
 "metadata": {
  "kernelspec": {
   "display_name": "Python 3",
   "language": "python",
   "name": "python3"
  },
  "language_info": {
   "codemirror_mode": {
    "name": "ipython",
    "version": 3
   },
   "file_extension": ".py",
   "mimetype": "text/x-python",
   "name": "python",
   "nbconvert_exporter": "python",
   "pygments_lexer": "ipython3",
   "version": "3.12.5"
  }
 },
 "nbformat": 4,
 "nbformat_minor": 5
}
