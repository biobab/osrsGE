{
 "cells": [
  {
   "cell_type": "code",
   "execution_count": 3,
   "id": "bed5a049",
   "metadata": {},
   "outputs": [],
   "source": [
    "import requests\n",
    "import json\n",
    "import pandas as pd\n",
    "import numpy as np\n",
    "import difflib\n",
    "import regex as re"
   ]
  },
  {
   "cell_type": "code",
   "execution_count": 5,
   "id": "3a985d40",
   "metadata": {},
   "outputs": [],
   "source": [
    "full_df = pd.read_parquet(\"../data/osrs_item_prices.parquet\")"
   ]
  },
  {
   "cell_type": "code",
   "execution_count": null,
   "id": "265cea3d",
   "metadata": {},
   "outputs": [],
   "source": [
    "class Purchase:\n",
    "    def __init__(self, price, amount):\n",
    "        self.price = price\n",
    "        self.amount = amount\n",
    "\n",
    "class Item:\n",
    "    def __init__(self, item_id, name, bought_price=None, current_price=None):\n",
    "        self.item_id = item_id\n",
    "        self.name = name\n",
    "        self.current_price = current_price\n",
    "        self.purchases = []\n",
    "\n",
    "        \n",
    "    def profit(self):\n",
    "        if self.bought_price is not None and self.current_price is not None:\n",
    "            return self.current_price - self.bought_price\n",
    "        return None\n",
    "    \n",
    "    def add_purchase(self,  price, amount):\n",
    "        self.purchases.append(Purchase(price, amount))\n",
    "    \n",
    "    def total_bought(self):\n",
    "        return sum(p.amount for p in self.purchases)\n",
    "    \n",
    "    def average_price(self):\n",
    "        total = sum(p.price * p.amount for p in self.purchases)\n",
    "        amount = self.total_bought()\n",
    "        return total / amount if amount else 0\n",
    "        "
   ]
  },
  {
   "cell_type": "code",
   "execution_count": null,
   "id": "d7b2d26a",
   "metadata": {},
   "outputs": [],
   "source": [
    "# add item object from input data\n",
    "\n",
    "tracked_items = {}\n",
    "\n",
    "def add_or_update_item(item_id, name, price, amount, current_price=None):\n",
    "    if item_id not in tracked_items:\n",
    "        tracked_items[name] = Item(item_id=item_id, name=name, current_price=current_price)\n",
    "    tracked_items[name].add_purchase(price, amount)"
   ]
  },
  {
   "cell_type": "code",
   "execution_count": null,
   "id": "6498776a",
   "metadata": {},
   "outputs": [
    {
     "data": {
      "text/html": [
       "<div>\n",
       "<style scoped>\n",
       "    .dataframe tbody tr th:only-of-type {\n",
       "        vertical-align: middle;\n",
       "    }\n",
       "\n",
       "    .dataframe tbody tr th {\n",
       "        vertical-align: top;\n",
       "    }\n",
       "\n",
       "    .dataframe thead th {\n",
       "        text-align: right;\n",
       "    }\n",
       "</style>\n",
       "<table border=\"1\" class=\"dataframe\">\n",
       "  <thead>\n",
       "    <tr style=\"text-align: right;\">\n",
       "      <th></th>\n",
       "      <th>name</th>\n",
       "      <th>id</th>\n",
       "      <th>high</th>\n",
       "      <th>low</th>\n",
       "    </tr>\n",
       "  </thead>\n",
       "  <tbody>\n",
       "    <tr>\n",
       "      <th>32</th>\n",
       "      <td>Abyssal whip</td>\n",
       "      <td>4151</td>\n",
       "      <td>1359997.0</td>\n",
       "      <td>1348211.0</td>\n",
       "    </tr>\n",
       "  </tbody>\n",
       "</table>\n",
       "</div>"
      ],
      "text/plain": [
       "            name    id       high        low\n",
       "32  Abyssal whip  4151  1359997.0  1348211.0"
      ]
     },
     "execution_count": 28,
     "metadata": {},
     "output_type": "execute_result"
    }
   ],
   "source": [
    "# take input name, price bought at and amount \n",
    "# fetch rest of data (current price, id)\n",
    "\n",
    "found_item = \"Abyssal whip\"\n",
    "item_row = full_df[full_df.name == found_item]\n",
    "item_row"
   ]
  },
  {
   "cell_type": "code",
   "execution_count": null,
   "id": "cc6bf45b",
   "metadata": {},
   "outputs": [
    {
     "data": {
      "text/plain": [
       "Index(['name', 'id', 'high', 'low'], dtype='object')"
      ]
     },
     "execution_count": 23,
     "metadata": {},
     "output_type": "execute_result"
    }
   ],
   "source": [
    "id = item_row.id\n",
    "name = item_row.name\n",
    "price_temp =  item_row.high"
   ]
  },
  {
   "cell_type": "code",
   "execution_count": null,
   "id": "2787d6c0",
   "metadata": {},
   "outputs": [],
   "source": [
    "add_or_update_item(item_id=4151, name=\"Abyssal whip\", price=2500000, amount=2, current_price=3000000)"
   ]
  }
 ],
 "metadata": {
  "kernelspec": {
   "display_name": "Python 3",
   "language": "python",
   "name": "python3"
  },
  "language_info": {
   "codemirror_mode": {
    "name": "ipython",
    "version": 3
   },
   "file_extension": ".py",
   "mimetype": "text/x-python",
   "name": "python",
   "nbconvert_exporter": "python",
   "pygments_lexer": "ipython3",
   "version": "3.12.5"
  }
 },
 "nbformat": 4,
 "nbformat_minor": 5
}
